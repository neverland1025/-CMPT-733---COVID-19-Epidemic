{
 "cells": [
  {
   "cell_type": "code",
   "execution_count": 1,
   "metadata": {},
   "outputs": [],
   "source": [
    "# EDA Spread: Confirmed, Deaths, Recovered"
   ]
  },
  {
   "cell_type": "code",
   "execution_count": 2,
   "metadata": {},
   "outputs": [],
   "source": [
    "# Data till 28th March 2020"
   ]
  },
  {
   "cell_type": "code",
   "execution_count": null,
   "metadata": {},
   "outputs": [],
   "source": [
    "# Libraries \n",
    "import pandas as pd\n",
    "import numpy as np\n",
    "import matplotlib.pyplot as plt\n",
    "import seaborn as sns"
   ]
  },
  {
   "cell_type": "code",
   "execution_count": null,
   "metadata": {},
   "outputs": [],
   "source": [
    "# Reading in the data\n",
    "df = pd.read_csv('covid-time-data-2.csv')"
   ]
  },
  {
   "cell_type": "code",
   "execution_count": null,
   "metadata": {},
   "outputs": [],
   "source": [
    "# list all countries\n",
    "All_countries = ['Afghanistan', 'Albania', 'Algeria', 'Andorra', 'Angola', 'Antigua and Barbuda', 'Argentina', 'Armenia', 'Australia', 'Austria', 'Azerbaijan', 'Bangladesh', 'Bahrain', 'Bahamas', 'Barbados', 'Belarus', 'Belgium', 'Belize', 'Benin', 'Bhutan', 'Bolivia', 'Bosnia and Herzegovina', 'Botswana', 'Brazil', 'Brunei', 'Bulgaria', 'Burkina Faso', 'Burundi', 'Cambodia', 'Cameroon', 'Canada', 'Central African Republic', 'Chad', 'Chile', 'Colombia', 'Costa Rica', 'China', 'Croatia', 'Cuba', 'Cyprus', 'Denmark', 'Djibouti', 'Dominica', 'Ecuador', 'Egypt', 'Equatorial Guinea', 'Eritrea', 'Estonia', 'Ethiopia', 'Fiji', 'Finland', 'France', 'Gabon', 'Gambia', 'Georgia', 'Germany', 'Ghana', 'Greece', 'Grenada', 'Guatemala', 'Guinea-Bissau', 'Guinea', 'Guyana', 'Haiti', 'Honduras', 'Hungary', 'Iceland', 'India', 'Indonesia', 'Iran', 'Iraq', 'Ireland', 'Israel', 'Italy', 'Jamaica', 'Japan', 'Jordan', 'Kazakhstan', 'Kenya', 'Kuwait', 'Kyrgyzstan', 'Laos', 'Latvia', 'Lebanon', 'Liberia', 'Libya', 'Liechtenstein', 'Lithuania', 'Luxembourg', 'Malaysia', 'Madagascar', 'Maldives', 'Mali', 'Malta', 'Mauritania', 'Mauritius', 'Mexico', 'Moldova', 'Monaco', 'Mongolia', 'Montenegro', 'Morocco', 'Mozambique', 'Namibia', 'Nepal', 'Netherlands', 'New Zealand', 'Nicaragua', 'Niger', 'Nigeria', 'Norway', 'Oman', 'Pakistan', 'Panama', 'Papua New Guinea', 'Paraguay', 'Peru', 'Philippines', 'Poland', 'Portugal', 'Qatar', 'Romania', 'Rwanda', 'Saint Lucia', 'Saint Vincent and the Grenadines', 'El Salvador', 'San Marino', 'Saudi Arabia', 'Senegal', 'Seychelles', 'Sierra Leone', 'Singapore', 'Serbia', 'Slovakia', 'Slovenia', 'Somalia', 'South Africa', 'Spain', 'Sri Lanka', 'Sudan', 'Suriname', 'Sweden', 'Switzerland', 'Syria', 'Tanzania', 'Thailand', 'Trinidad and Tobago', 'Timor-Leste', 'Togo', 'Tunisia', 'Turkey', 'Uganda', 'Ukraine', 'United Arab Emirates', 'United Kingdom', 'Uruguay', 'Uzbekistan', 'Venezuela', 'Vietnam', 'Zambia', 'Zimbabwe']"
   ]
  },
  {
   "cell_type": "code",
   "execution_count": null,
   "metadata": {},
   "outputs": [],
   "source": [
    "# Working on confirmed cases in different regions\n",
    "df_sorted = df.sort_values(by=['Confirmed'],ascending=True)"
   ]
  },
  {
   "cell_type": "code",
   "execution_count": null,
   "metadata": {},
   "outputs": [],
   "source": [
    "for i in All_countries:\n",
    "    this_Country = df_sorted[df_sorted[\"Country/Region\"] == i].reset_index()\n",
    "    fig, ax = plt.subplots(3, 1,figsize=(25,40))\n",
    "\n",
    "    # Confirmed\n",
    "    ax[0].scatter(x='Date',y='Confirmed',data=this_Country,s=100,color='black')\n",
    "    ax[0].set_xlabel('Date', fontsize=40)\n",
    "    ax[0].set_ylabel('Confirmed Cases', fontsize=40)\n",
    "    ax[0].set_xticklabels(this_Country.Date,fontsize=10,rotation=45)\n",
    "    ax[0].set_title(i,fontsize=30)\n",
    "\n",
    "    # Deaths\n",
    "    ax[1].scatter(x='Date',y='Deaths',data=this_Country,s=100,color='red')\n",
    "    ax[1].set_xlabel('Date', fontsize=40)\n",
    "    ax[1].set_ylabel('Total Deaths', fontsize=40)\n",
    "    ax[1].set_xticklabels(this_Country.Date,fontsize=10,rotation=45)\n",
    "    ax[1].set_title(i,fontsize=30)\n",
    "\n",
    "    # Recovered\n",
    "    ax[2].scatter(x='Date',y='Recovered',data=this_Country,s=100,color='green')\n",
    "    ax[2].set_xlabel('Date', fontsize=40)\n",
    "    ax[2].set_ylabel('Total Recoveries', fontsize=40)\n",
    "    ax[2].set_xticklabels(this_Country.Date,fontsize=10,rotation=45)\n",
    "    ax[2].set_title(i,fontsize=30)\n",
    "    \n",
    "    # output result of every countries map\n",
    "    fig = plt.gcf()\n",
    "    str_resu = './static/EDA/EDA_' + i + '.png'\n",
    "    fig.savefig(str_resu, dpi = 100)"
   ]
  },
  {
   "cell_type": "code",
   "execution_count": null,
   "metadata": {},
   "outputs": [],
   "source": [
    "# list the path for flask website\n",
    "for i in All_countries:\n",
    "    print('<option value=\"/static/EDA/' + i + '.png\">' + i + '</option>')"
   ]
  },
  {
   "cell_type": "code",
   "execution_count": null,
   "metadata": {},
   "outputs": [],
   "source": []
  }
 ],
 "metadata": {
  "kernelspec": {
   "display_name": "Python 3",
   "language": "python",
   "name": "python3"
  },
  "language_info": {
   "codemirror_mode": {
    "name": "ipython",
    "version": 3
   },
   "file_extension": ".py",
   "mimetype": "text/x-python",
   "name": "python",
   "nbconvert_exporter": "python",
   "pygments_lexer": "ipython3",
   "version": "3.7.4"
  }
 },
 "nbformat": 4,
 "nbformat_minor": 2
}
