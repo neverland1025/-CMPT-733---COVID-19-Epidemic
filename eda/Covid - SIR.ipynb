{
 "cells": [
  {
   "cell_type": "code",
   "execution_count": 2,
   "metadata": {},
   "outputs": [],
   "source": [
    "# SIR Model\n",
    "# Susceptible - Individual is prone to infection\n",
    "# Infected - Individual contracted disease\n",
    "# Recovered - Individual survived"
   ]
  },
  {
   "cell_type": "code",
   "execution_count": 1,
   "metadata": {},
   "outputs": [],
   "source": [
    "# Libraries \n",
    "import pandas as pd\n",
    "import numpy as np\n",
    "import matplotlib.pyplot as plt\n",
    "import seaborn as sns"
   ]
  },
  {
   "cell_type": "code",
   "execution_count": 2,
   "metadata": {},
   "outputs": [],
   "source": [
    "# Reading in the data\n",
    "df = pd.read_csv('covid-time-data-2.csv')\n",
    "df_sorted = df.sort_values(by=['Confirmed'],ascending=True)"
   ]
  },
  {
   "cell_type": "code",
   "execution_count": 3,
   "metadata": {},
   "outputs": [],
   "source": [
    "# USA\n",
    "USA = df_sorted[df_sorted[\"Country/Region\"] == \"US\"].reset_index()\n",
    "# Italy\n",
    "Italy = df_sorted[df_sorted[\"Country/Region\"] == \"Italy\"].reset_index()\n",
    "# Germany\n",
    "Germany = df_sorted[df_sorted[\"Country/Region\"] == \"Germany\"].reset_index()\n",
    "# China\n",
    "China = df_sorted[df_sorted[\"Country/Region\"] == \"China\"].reset_index()\n",
    "# Spain\n",
    "Spain = df_sorted[df_sorted[\"Country/Region\"] == \"Spain\"].reset_index()"
   ]
  },
  {
   "cell_type": "code",
   "execution_count": 4,
   "metadata": {},
   "outputs": [],
   "source": [
    "# i is infection rate\n",
    "# r is recovery rate"
   ]
  },
  {
   "cell_type": "code",
   "execution_count": 5,
   "metadata": {},
   "outputs": [
    {
     "name": "stderr",
     "output_type": "stream",
     "text": [
      "/Users/zacblac/opt/anaconda3/lib/python3.7/site-packages/scipy/integrate/odepack.py:247: ODEintWarning: Excess work done on this call (perhaps wrong Dfun type). Run with full_output = 1 to get quantitative information.\n",
      "  warnings.warn(warning_msg, ODEintWarning)\n",
      "/Users/zacblac/opt/anaconda3/lib/python3.7/site-packages/ipykernel_launcher.py:18: RuntimeWarning: overflow encountered in double_scalars\n",
      "/Users/zacblac/opt/anaconda3/lib/python3.7/site-packages/ipykernel_launcher.py:19: RuntimeWarning: overflow encountered in double_scalars\n"
     ]
    },
    {
     "data": {
      "image/png": "[encoded data removed]",
      "text/plain": [
       "<Figure size 432x288 with 1 Axes>"
      ]
     },
     "metadata": {
      "needs_background": "light"
     },
     "output_type": "display_data"
    },
    {
     "name": "stdout",
     "output_type": "stream",
     "text": [
      "Optimal parameters: infection rate = -0.0018713074029189205 recovery rate =  -0.1782145877826112\n"
     ]
    }
   ],
   "source": [
    "# USA Analysis\n",
    "\n",
    "from scipy import optimize,integrate\n",
    "from scipy.integrate import odeint\n",
    "\n",
    "population = float(327000000)\n",
    "confirmed = list(USA['Confirmed'])\n",
    "day_count = list(range(1,len(USA['Date'])+1))\n",
    "\n",
    "ydata = np.array([i for i in confirmed], dtype=float)\n",
    "xdata = np.array(day_count, dtype=float)\n",
    "N = population\n",
    "infected1 = ydata[0]\n",
    "sus1 = N - infected1\n",
    "rec1 = 0.0\n",
    "\n",
    "def sir_model(y,x,infection_rate,recovery_rate):\n",
    "    sus = -infection_rate * y[0] * y[1] / N\n",
    "    rec = recovery_rate * y[1]\n",
    "    inf = -(sus + rec)\n",
    "    return sus, inf, rec\n",
    "\n",
    "def fit_model(x,infection_rate,recovery_rate):\n",
    "    return odeint(sir_model, (sus1, infected1, rec1), x, args=(infection_rate, recovery_rate))[:,1]\n",
    "\n",
    "a,b = optimize.curve_fit(fit_model,xdata,ydata)\n",
    "fitted = fit_model(xdata,*a)\n",
    "\n",
    "\n",
    "plt.plot(xdata, ydata)\n",
    "plt.plot(xdata, fitted,'x')\n",
    "\n",
    "plt.title(\"Fit of SIR model for USA infected cases\")\n",
    "plt.ylabel(\"Population infected\")\n",
    "plt.xlabel(\"Days\")\n",
    "plt.show()\n",
    "print(\"Optimal parameters: infection rate =\", a[0], \"recovery rate = \", a[1])"
   ]
  }
 ],
 "metadata": {
  "kernelspec": {
   "display_name": "Python 3",
   "language": "python",
   "name": "python3"
  },
  "language_info": {
   "codemirror_mode": {
    "name": "ipython",
    "version": 3
   },
   "file_extension": ".py",
   "mimetype": "text/x-python",
   "name": "python",
   "nbconvert_exporter": "python",
   "pygments_lexer": "ipython3",
   "version": "3.7.4"
  }
 },
 "nbformat": 4,
 "nbformat_minor": 2
}
